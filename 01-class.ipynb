{
 "cells": [
  {
   "cell_type": "code",
   "execution_count": 1,
   "id": "d47fa576",
   "metadata": {},
   "outputs": [
    {
     "name": "stdout",
     "output_type": "stream",
     "text": [
      "<class 'int'>\n"
     ]
    }
   ],
   "source": [
    "a = 5\n",
    "print(type(a))"
   ]
  },
  {
   "cell_type": "markdown",
   "id": "c1c5f82d",
   "metadata": {},
   "source": [
    "### Remark:\n",
    "Because in Python, everything is an object, and every object is an instance of a class — even basic data types like `int`, `str`, `list`, etc.\n",
    "\n",
    "So when we write:\n",
    "```\n",
    "a = 5\n",
    "type(a)\n",
    "```\n",
    "We're asking: What class does this object belong to?\n",
    "\n",
    "Python replies: `<class 'int'>`\n",
    "\n",
    "`a` is an instance of the built-in class `int`."
   ]
  },
  {
   "cell_type": "code",
   "execution_count": 3,
   "id": "be565646",
   "metadata": {},
   "outputs": [
    {
     "name": "stdout",
     "output_type": "stream",
     "text": [
      "<class 'float'>\n"
     ]
    }
   ],
   "source": [
    "b = 4.5\n",
    "print(type(b))"
   ]
  },
  {
   "cell_type": "code",
   "execution_count": 2,
   "id": "734eb648",
   "metadata": {},
   "outputs": [
    {
     "name": "stdout",
     "output_type": "stream",
     "text": [
      "<class 'str'>\n"
     ]
    }
   ],
   "source": [
    "c = \"Sanjam\"\n",
    "print(type(c))"
   ]
  },
  {
   "cell_type": "code",
   "execution_count": 6,
   "id": "ff248666",
   "metadata": {},
   "outputs": [
    {
     "name": "stdout",
     "output_type": "stream",
     "text": [
      "SANJAM\n"
     ]
    }
   ],
   "source": [
    "print(c.upper())"
   ]
  },
  {
   "cell_type": "code",
   "execution_count": 4,
   "id": "ca0fc3fb",
   "metadata": {},
   "outputs": [
    {
     "name": "stdout",
     "output_type": "stream",
     "text": [
      "<class 'bool'>\n"
     ]
    }
   ],
   "source": [
    "d = True\n",
    "print(type(d))"
   ]
  },
  {
   "cell_type": "code",
   "execution_count": 7,
   "id": "98a41982",
   "metadata": {},
   "outputs": [
    {
     "name": "stdout",
     "output_type": "stream",
     "text": [
      "<class 'list'>\n"
     ]
    }
   ],
   "source": [
    "l1=[1,2,3,4]\n",
    "print(type(l1))"
   ]
  },
  {
   "cell_type": "code",
   "execution_count": null,
   "id": "095a6155",
   "metadata": {},
   "outputs": [],
   "source": []
  }
 ],
 "metadata": {
  "kernelspec": {
   "display_name": "Python 3",
   "language": "python",
   "name": "python3"
  },
  "language_info": {
   "codemirror_mode": {
    "name": "ipython",
    "version": 3
   },
   "file_extension": ".py",
   "mimetype": "text/x-python",
   "name": "python",
   "nbconvert_exporter": "python",
   "pygments_lexer": "ipython3",
   "version": "3.12.11"
  }
 },
 "nbformat": 4,
 "nbformat_minor": 5
}
