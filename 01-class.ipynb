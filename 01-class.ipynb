{
 "cells": [
  {
   "cell_type": "code",
   "execution_count": 1,
   "id": "d47fa576",
   "metadata": {},
   "outputs": [
    {
     "name": "stdout",
     "output_type": "stream",
     "text": [
      "<class 'int'>\n"
     ]
    }
   ],
   "source": [
    "a = 5\n",
    "print(type(a))"
   ]
  },
  {
   "cell_type": "markdown",
   "id": "c1c5f82d",
   "metadata": {},
   "source": [
    "#### Remark:\n",
    "Because in Python, everything is an object, and every object is an instance of a class — even basic data types like `int`, `str`, `list`, etc.\n",
    "\n",
    "So when we write:\n",
    "```\n",
    "a = 5\n",
    "type(a)\n",
    "```\n",
    "We're asking: What class does this object belong to?\n",
    "\n",
    "Python replies: `<class 'int'>`\n",
    "\n",
    "`a` is an instance of the built-in class `int`."
   ]
  },
  {
   "cell_type": "code",
   "execution_count": 3,
   "id": "be565646",
   "metadata": {},
   "outputs": [
    {
     "name": "stdout",
     "output_type": "stream",
     "text": [
      "<class 'float'>\n"
     ]
    }
   ],
   "source": [
    "b = 4.5\n",
    "print(type(b))"
   ]
  },
  {
   "cell_type": "code",
   "execution_count": 2,
   "id": "734eb648",
   "metadata": {},
   "outputs": [
    {
     "name": "stdout",
     "output_type": "stream",
     "text": [
      "<class 'str'>\n"
     ]
    }
   ],
   "source": [
    "c = \"Sanjam\"\n",
    "print(type(c))"
   ]
  },
  {
   "cell_type": "code",
   "execution_count": null,
   "id": "ff248666",
   "metadata": {},
   "outputs": [
    {
     "name": "stdout",
     "output_type": "stream",
     "text": [
      "SANJAM\n"
     ]
    }
   ],
   "source": [
    "# Using a method on class 'string'\n",
    "print(c.upper())"
   ]
  },
  {
   "cell_type": "code",
   "execution_count": 4,
   "id": "ca0fc3fb",
   "metadata": {},
   "outputs": [
    {
     "name": "stdout",
     "output_type": "stream",
     "text": [
      "<class 'bool'>\n"
     ]
    }
   ],
   "source": [
    "d = True\n",
    "print(type(d))"
   ]
  },
  {
   "cell_type": "code",
   "execution_count": 7,
   "id": "98a41982",
   "metadata": {},
   "outputs": [
    {
     "name": "stdout",
     "output_type": "stream",
     "text": [
      "<class 'list'>\n"
     ]
    }
   ],
   "source": [
    "l1=[1,2,3,4]\n",
    "print(type(l1))"
   ]
  },
  {
   "cell_type": "code",
   "execution_count": 3,
   "id": "095a6155",
   "metadata": {},
   "outputs": [
    {
     "name": "stdout",
     "output_type": "stream",
     "text": [
      "Real part: 4.0\n",
      "Imaginary part: 5.0\n"
     ]
    }
   ],
   "source": [
    "# Complex number\n",
    "e = 4 + 5j \n",
    "\n",
    "# Printing properties\n",
    "print(\"Real part:\", e.real)\n",
    "print(\"Imaginary part:\", e.imag)"
   ]
  },
  {
   "cell_type": "markdown",
   "id": "5ca74e20",
   "metadata": {},
   "source": [
    "### Creating a class 'Car'"
   ]
  },
  {
   "cell_type": "code",
   "execution_count": 2,
   "id": "1ae8dd69",
   "metadata": {},
   "outputs": [],
   "source": [
    "class Car:\n",
    "    pass"
   ]
  },
  {
   "cell_type": "code",
   "execution_count": 3,
   "id": "0d153248",
   "metadata": {},
   "outputs": [
    {
     "data": {
      "text/plain": [
       "__main__.Car"
      ]
     },
     "execution_count": 3,
     "metadata": {},
     "output_type": "execute_result"
    }
   ],
   "source": [
    "Car"
   ]
  },
  {
   "cell_type": "code",
   "execution_count": 4,
   "id": "7cb3a7df",
   "metadata": {},
   "outputs": [
    {
     "name": "stdout",
     "output_type": "stream",
     "text": [
      "<class '__main__.Car'>\n"
     ]
    }
   ],
   "source": [
    "swift = Car()\n",
    "print(type(swift))"
   ]
  },
  {
   "cell_type": "code",
   "execution_count": 8,
   "id": "e076dadc",
   "metadata": {},
   "outputs": [
    {
     "ename": "TypeError",
     "evalue": "Student.__init__() takes 0 positional arguments but 1 was given",
     "output_type": "error",
     "traceback": [
      "\u001b[31m---------------------------------------------------------------------------\u001b[39m",
      "\u001b[31mTypeError\u001b[39m                                 Traceback (most recent call last)",
      "\u001b[36mCell\u001b[39m\u001b[36m \u001b[39m\u001b[32mIn[8]\u001b[39m\u001b[32m, line 5\u001b[39m\n\u001b[32m      2\u001b[39m     \u001b[38;5;28;01mdef\u001b[39;00m\u001b[38;5;250m \u001b[39m\u001b[34m__init__\u001b[39m():\n\u001b[32m      3\u001b[39m         \u001b[38;5;28mprint\u001b[39m(\u001b[33m\"\u001b[39m\u001b[33mI will get called automatically when you create an object\u001b[39m\u001b[33m\"\u001b[39m)\n\u001b[32m----> \u001b[39m\u001b[32m5\u001b[39m s1=\u001b[43mStudent\u001b[49m\u001b[43m(\u001b[49m\u001b[43m)\u001b[49m \u001b[38;5;66;03m# Returns TypeError: Student.__init__() takes 0 positional arguments but 1 was given\u001b[39;00m\n",
      "\u001b[31mTypeError\u001b[39m: Student.__init__() takes 0 positional arguments but 1 was given"
     ]
    }
   ],
   "source": [
    "class Student:\n",
    "    def __init__():\n",
    "        print(\"I will get called automatically when you create an object\")\n",
    "        \n",
    "s1=Student() # Returns TypeError: Student.__init__() takes 0 positional arguments but 1 was given"
   ]
  },
  {
   "cell_type": "code",
   "execution_count": 11,
   "id": "cca3553a",
   "metadata": {},
   "outputs": [],
   "source": [
    "def hello(arg1):\n",
    "    print(arg1)\n",
    "    print(\"Hello World\")"
   ]
  },
  {
   "cell_type": "code",
   "execution_count": 12,
   "id": "a72a6acc",
   "metadata": {},
   "outputs": [
    {
     "name": "stdout",
     "output_type": "stream",
     "text": [
      "Mayank\n",
      "Hello World\n"
     ]
    }
   ],
   "source": [
    "s1 = \"Mayank\"\n",
    "hello(s1)"
   ]
  },
  {
   "cell_type": "code",
   "execution_count": null,
   "id": "2ada0bdd",
   "metadata": {},
   "outputs": [],
   "source": []
  }
 ],
 "metadata": {
  "kernelspec": {
   "display_name": "Python 3",
   "language": "python",
   "name": "python3"
  },
  "language_info": {
   "codemirror_mode": {
    "name": "ipython",
    "version": 3
   },
   "file_extension": ".py",
   "mimetype": "text/x-python",
   "name": "python",
   "nbconvert_exporter": "python",
   "pygments_lexer": "ipython3",
   "version": "3.12.11"
  }
 },
 "nbformat": 4,
 "nbformat_minor": 5
}
